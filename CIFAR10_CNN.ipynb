{
  "nbformat": 4,
  "nbformat_minor": 0,
  "metadata": {
    "colab": {
      "name": "CIFAR10 CNN",
      "provenance": [],
      "authorship_tag": "ABX9TyPEPosTTXxQlhyEAIYi2oEt",
      "include_colab_link": true
    },
    "kernelspec": {
      "name": "python3",
      "display_name": "Python 3"
    },
    "language_info": {
      "name": "python"
    },
    "accelerator": "GPU"
  },
  "cells": [
    {
      "cell_type": "markdown",
      "metadata": {
        "id": "view-in-github",
        "colab_type": "text"
      },
      "source": [
        "<a href=\"https://colab.research.google.com/github/HussamSelim/CNN-CIFAR10/blob/main/CIFAR10_CNN.ipynb\" target=\"_parent\"><img src=\"https://colab.research.google.com/assets/colab-badge.svg\" alt=\"Open In Colab\"/></a>"
      ]
    },
    {
      "cell_type": "code",
      "metadata": {
        "id": "lVHBaSrS3qaM"
      },
      "source": [
        "import keras\n",
        "import tensorflow as tf\n",
        "from tensorflow.keras.datasets import cifar10\n",
        "from tensorflow.keras.preprocessing.image import ImageDataGenerator\n",
        "from tensorflow.keras.models import Sequential\n",
        "from tensorflow.keras.layers import Dense,Conv2D,MaxPooling2D,Dropout,Activation,Flatten\n",
        "import matplotlib.pyplot as plt\n"
      ],
      "execution_count": 1,
      "outputs": []
    },
    {
      "cell_type": "code",
      "metadata": {
        "id": "X6-ftzWs5ZrK"
      },
      "source": [
        "(x_train,y_train),(x_test,y_test)=cifar10.load_data()"
      ],
      "execution_count": 2,
      "outputs": []
    },
    {
      "cell_type": "code",
      "metadata": {
        "colab": {
          "base_uri": "https://localhost:8080/"
        },
        "id": "jNCG_9Yq5qoY",
        "outputId": "85d20efe-ea98-44da-d2f9-27523d5b60a5"
      },
      "source": [
        "print('X_train shape is {}'.format(x_train.shape))\n",
        "print('X_test shape is {}'.format(x_test.shape))"
      ],
      "execution_count": 3,
      "outputs": [
        {
          "output_type": "stream",
          "name": "stdout",
          "text": [
            "X_train shape is (50000, 32, 32, 3)\n",
            "X_test shape is (10000, 32, 32, 3)\n"
          ]
        }
      ]
    },
    {
      "cell_type": "code",
      "metadata": {
        "colab": {
          "base_uri": "https://localhost:8080/",
          "height": 283
        },
        "id": "To_B26Fx56KM",
        "outputId": "7a671d43-53f7-44fe-b489-9ed4f3c59ca7"
      },
      "source": [
        "#let's plot one of the images and its corresponding label\n",
        "plt.imshow(x_train[458])\n",
        "print(y_train[458])"
      ],
      "execution_count": 4,
      "outputs": [
        {
          "output_type": "stream",
          "name": "stdout",
          "text": [
            "[4]\n"
          ]
        },
        {
          "output_type": "display_data",
          "data": {
            "image/png": "[encoded data removed]",
            "text/plain": [
              "<Figure size 432x288 with 1 Axes>"
            ]
          },
          "metadata": {
            "needs_background": "light"
          }
        }
      ]
    },
    {
      "cell_type": "code",
      "metadata": {
        "id": "MiwLIyDe6MoY"
      },
      "source": [
        "#perform one hot encoding on the output\n",
        "import pandas as pd\n",
        "num_classes=10\n",
        "\n",
        "y_train=tf.keras.utils.to_categorical(y_train,num_classes)\n",
        "y_test=tf.keras.utils.to_categorical(y_test,num_classes)\n",
        "# y_train=pd.get_dummies(y_train.reshape(-1)).to_numpy()\n",
        "# y_test=pd.get_dummies(y_test.reshape(-1)).to_numpy()"
      ],
      "execution_count": 5,
      "outputs": []
    },
    {
      "cell_type": "code",
      "metadata": {
        "id": "_QXOUgIdIdsZ"
      },
      "source": [
        "#let's scale the pixels and make everything float\n",
        "\n",
        "x_train=x_train.astype('float32')\n",
        "x_test=x_test.astype('float32')\n",
        "\n",
        "x_train /= 255\n",
        "x_test /= 255"
      ],
      "execution_count": 6,
      "outputs": []
    },
    {
      "cell_type": "code",
      "metadata": {
        "colab": {
          "base_uri": "https://localhost:8080/"
        },
        "id": "lTXFCyqAI-9r",
        "outputId": "27805065-2f60-4ef7-89b8-7905d4213c27"
      },
      "source": [
        "\n",
        "x_train.shape"
      ],
      "execution_count": 7,
      "outputs": [
        {
          "output_type": "execute_result",
          "data": {
            "text/plain": [
              "(50000, 32, 32, 3)"
            ]
          },
          "metadata": {},
          "execution_count": 7
        }
      ]
    },
    {
      "cell_type": "code",
      "metadata": {
        "colab": {
          "base_uri": "https://localhost:8080/"
        },
        "id": "86gSarR29xiq",
        "outputId": "03e51396-9c78-446b-dbba-926d0933c034"
      },
      "source": [
        "#build a CNN using keras\n",
        "\n",
        "model1=Sequential()\n",
        "\n",
        "#adding first layer of 32 5x5 filters with 2x2 stride and padding\n",
        "\n",
        "model1.add(Conv2D(32,(5,5),(2,2),padding='same', input_shape=x_train.shape[1:]))\n",
        "\n",
        "model1.add(Activation('relu'))\n",
        "\n",
        "#adding the second layer of 32 filters 3x3 convolutions\n",
        "\n",
        "model1.add(Conv2D(32,(5,5),padding='valid', strides = (2,2)))\n",
        "\n",
        "model1.add(Activation('relu'))\n",
        "\n",
        "# Adding 2x2 Maxpooling\n",
        "\n",
        "model1.add(MaxPooling2D(pool_size=(2,2)))\n",
        "\n",
        "model1.add(Dropout(rate=0.25))\n",
        "\n",
        "#adding flatten layer to feed it to fully connected layers\n",
        "model1.add(Flatten())\n",
        "model1.add(Dense(512))\n",
        "model1.add(Activation('relu'))\n",
        "model1.add(Dropout(0.5))\n",
        "model1.add(Dense(num_classes))\n",
        "model1.add(Activation('softmax'))\n",
        "\n",
        "\n",
        "model1.summary()"
      ],
      "execution_count": 10,
      "outputs": [
        {
          "output_type": "stream",
          "name": "stdout",
          "text": [
            "Model: \"sequential_1\"\n",
            "_________________________________________________________________\n",
            "Layer (type)                 Output Shape              Param #   \n",
            "=================================================================\n",
            "conv2d_2 (Conv2D)            (None, 16, 16, 32)        2432      \n",
            "_________________________________________________________________\n",
            "activation_6 (Activation)    (None, 16, 16, 32)        0         \n",
            "_________________________________________________________________\n",
            "conv2d_3 (Conv2D)            (None, 6, 6, 32)          25632     \n",
            "_________________________________________________________________\n",
            "activation_7 (Activation)    (None, 6, 6, 32)          0         \n",
            "_________________________________________________________________\n",
            "max_pooling2d_1 (MaxPooling2 (None, 3, 3, 32)          0         \n",
            "_________________________________________________________________\n",
            "dropout_2 (Dropout)          (None, 3, 3, 32)          0         \n",
            "_________________________________________________________________\n",
            "flatten_1 (Flatten)          (None, 288)               0         \n",
            "_________________________________________________________________\n",
            "dense_4 (Dense)              (None, 512)               147968    \n",
            "_________________________________________________________________\n",
            "activation_8 (Activation)    (None, 512)               0         \n",
            "_________________________________________________________________\n",
            "dropout_3 (Dropout)          (None, 512)               0         \n",
            "_________________________________________________________________\n",
            "dense_5 (Dense)              (None, 10)                5130      \n",
            "_________________________________________________________________\n",
            "activation_9 (Activation)    (None, 10)                0         \n",
            "=================================================================\n",
            "Total params: 181,162\n",
            "Trainable params: 181,162\n",
            "Non-trainable params: 0\n",
            "_________________________________________________________________\n"
          ]
        }
      ]
    },
    {
      "cell_type": "code",
      "metadata": {
        "colab": {
          "base_uri": "https://localhost:8080/"
        },
        "id": "3qaQx-rBBK7T",
        "outputId": "699b336c-a9e5-41b2-8074-cced04a7f629"
      },
      "source": [
        "\n",
        "batch_size=50000\n",
        "\n",
        "#Intiate Adam Optimizer\n",
        "opt=tf.keras.optimizers.Adadelta(\n",
        "    learning_rate=0.001, rho=0.95, epsilon=1e-07, name=\"Adadelta\"\n",
        ")\n",
        "model1.compile(loss='categorical_crossentropy',\n",
        "               optimizer=opt,\n",
        "               metrics=['accuracy'])\n",
        "\n",
        "model1.fit(x_train,y_train,\n",
        "           \n",
        "           epochs=20,\n",
        "           validation_data=(x_test,y_test),\n",
        "           shuffle=True\n",
        "           )\n"
      ],
      "execution_count": 13,
      "outputs": [
        {
          "output_type": "stream",
          "name": "stdout",
          "text": [
            "Epoch 1/20\n",
            "1563/1563 [==============================] - 11s 7ms/step - loss: 1.0138 - accuracy: 0.6543 - val_loss: 1.0072 - val_accuracy: 0.6606\n",
            "Epoch 2/20\n",
            "1563/1563 [==============================] - 10s 6ms/step - loss: 0.9675 - accuracy: 0.6704 - val_loss: 0.9923 - val_accuracy: 0.6659\n",
            "Epoch 3/20\n",
            "1563/1563 [==============================] - 10s 6ms/step - loss: 0.9561 - accuracy: 0.6731 - val_loss: 0.9862 - val_accuracy: 0.6682\n",
            "Epoch 4/20\n",
            "1563/1563 [==============================] - 11s 7ms/step - loss: 0.9493 - accuracy: 0.6748 - val_loss: 0.9825 - val_accuracy: 0.6708\n",
            "Epoch 5/20\n",
            "1563/1563 [==============================] - 11s 7ms/step - loss: 0.9448 - accuracy: 0.6756 - val_loss: 0.9799 - val_accuracy: 0.6726\n",
            "Epoch 6/20\n",
            "1563/1563 [==============================] - 10s 6ms/step - loss: 0.9398 - accuracy: 0.6783 - val_loss: 0.9781 - val_accuracy: 0.6737\n",
            "Epoch 7/20\n",
            "1563/1563 [==============================] - 10s 6ms/step - loss: 0.9389 - accuracy: 0.6807 - val_loss: 0.9767 - val_accuracy: 0.6744\n",
            "Epoch 8/20\n",
            "1563/1563 [==============================] - 9s 6ms/step - loss: 0.9393 - accuracy: 0.6794 - val_loss: 0.9756 - val_accuracy: 0.6744\n",
            "Epoch 9/20\n",
            "1563/1563 [==============================] - 10s 6ms/step - loss: 0.9342 - accuracy: 0.6798 - val_loss: 0.9749 - val_accuracy: 0.6755\n",
            "Epoch 10/20\n",
            "1563/1563 [==============================] - 9s 6ms/step - loss: 0.9303 - accuracy: 0.6775 - val_loss: 0.9740 - val_accuracy: 0.6762\n",
            "Epoch 11/20\n",
            "1563/1563 [==============================] - 10s 6ms/step - loss: 0.9339 - accuracy: 0.6815 - val_loss: 0.9732 - val_accuracy: 0.6770\n",
            "Epoch 12/20\n",
            "1563/1563 [==============================] - 10s 6ms/step - loss: 0.9293 - accuracy: 0.6812 - val_loss: 0.9723 - val_accuracy: 0.6787\n",
            "Epoch 13/20\n",
            "1563/1563 [==============================] - 9s 6ms/step - loss: 0.9245 - accuracy: 0.6823 - val_loss: 0.9719 - val_accuracy: 0.6780\n",
            "Epoch 14/20\n",
            "1563/1563 [==============================] - 10s 6ms/step - loss: 0.9253 - accuracy: 0.6822 - val_loss: 0.9713 - val_accuracy: 0.6787\n",
            "Epoch 15/20\n",
            "1563/1563 [==============================] - 10s 6ms/step - loss: 0.9274 - accuracy: 0.6798 - val_loss: 0.9710 - val_accuracy: 0.6788\n",
            "Epoch 16/20\n",
            "1563/1563 [==============================] - 10s 6ms/step - loss: 0.9323 - accuracy: 0.6799 - val_loss: 0.9705 - val_accuracy: 0.6790\n",
            "Epoch 17/20\n",
            "1563/1563 [==============================] - 10s 6ms/step - loss: 0.9287 - accuracy: 0.6845 - val_loss: 0.9699 - val_accuracy: 0.6793\n",
            "Epoch 18/20\n",
            "1563/1563 [==============================] - 10s 6ms/step - loss: 0.9252 - accuracy: 0.6826 - val_loss: 0.9695 - val_accuracy: 0.6792\n",
            "Epoch 19/20\n",
            "1563/1563 [==============================] - 10s 6ms/step - loss: 0.9257 - accuracy: 0.6835 - val_loss: 0.9691 - val_accuracy: 0.6787\n",
            "Epoch 20/20\n",
            "1563/1563 [==============================] - 10s 6ms/step - loss: 0.9213 - accuracy: 0.6836 - val_loss: 0.9689 - val_accuracy: 0.6787\n"
          ]
        },
        {
          "output_type": "execute_result",
          "data": {
            "text/plain": [
              "<keras.callbacks.History at 0x7fbf11c60c10>"
            ]
          },
          "metadata": {},
          "execution_count": 13
        }
      ]
    }
  ]
}